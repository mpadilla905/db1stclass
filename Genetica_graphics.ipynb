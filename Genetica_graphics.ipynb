{
 "cells": [
  {
   "cell_type": "code",
   "execution_count": 6,
   "metadata": {},
   "outputs": [],
   "source": [
    "# llamado de librerías\n",
    "import matplotlib.pyplot as plt\n",
    "%matplotlib inline\n",
    "import mysql.connector"
   ]
  },
  {
   "cell_type": "code",
   "execution_count": 7,
   "metadata": {},
   "outputs": [],
   "source": [
    "# establecimiento de conexión a la db\n",
    "db = mysql.connector.connect(\n",
    "  host=\"localhost\",\n",
    "  user=\"mpadilla\",\n",
    "  passwd=\"genoma123\",\n",
    "  port = '3306',\n",
    "  database = \"TraitsQTLs_Genetica\"\n",
    ")"
   ]
  },
  {
   "cell_type": "code",
   "execution_count": 22,
   "metadata": {},
   "outputs": [
    {
     "name": "stdout",
     "output_type": "stream",
     "text": [
      "('DatosGenerales',)\n",
      "('Mediciones',)\n",
      "(1, 'Margareta Boege ', 'M', 45, 'Alemania')\n",
      "(2, 'Ana Altamirano ', 'M', 30, 'CDMX')\n",
      "(3, 'Carlos Aguilar', 'H', 20, 'EDOMEX')\n",
      "(4, 'Erick Santiago', 'H', 19, 'EDOMEX')\n",
      "(5, 'Sophia Orozco', 'M', 20, 'QRO')\n",
      "(6, 'Brenda Pardo', 'M', 19, 'SLP')\n",
      "(7, 'Arturo García', 'H', 21, 'MICH')\n",
      "(8, 'Isaac Garnica', 'H', 19, 'MICH')\n",
      "(9, 'Ariel Pulido', 'H', 18, 'VER')\n",
      "(10, 'Arlet Lara', 'M', 18, 'GTO')\n",
      "(11, 'Luis Felipe Cedeño', 'H', 18, 'CDMX')\n",
      "(12, 'Valeria Añorve', 'M', 18, 'GRO')\n",
      "(13, 'Tania Sepúlveda', 'M', 18, 'MICH')\n",
      "(14, 'Víctor Flores', 'H', 18, 'COAH')\n",
      "(15, 'Luis Fernández', 'H', 18, 'MICH')\n",
      "(16, 'Natalia Rivera', 'M', 18, 'SLP')\n",
      "(17, 'Leo Arteaga', 'H', 21, 'EDOMEX')\n",
      "(18, 'Christian Fernández', 'H', 18, 'CDMX')\n",
      "(19, 'Diego Aguilera', 'H', 18, 'EDOMEX')\n",
      "(20, 'Brenda Vázquez', 'M', 18, 'EDOMEX')\n",
      "(21, 'Zoe Franco', 'M', 19, 'GTO')\n",
      "(22, 'César Aspiros', 'H', 19, 'OAX')\n",
      "(23, 'Lucía Morales', 'M', 35, 'CDMX')\n",
      "(24, 'Sebastián García', 'H', 21, 'CDMX')\n",
      "(25, 'Emilio Calderón', 'H', 18, 'MONT')\n",
      "(26, 'Luisa Sarai Sevila Nicolas', 'M', 20, 'OAX')\n",
      "(27, 'Jair Garcia', 'H', 32, 'MOR')\n",
      "(28, 'Jorge Luis Cuamatzi', 'H', 26, 'TLAX')\n",
      "(29, 'Iván Sedeño ', 'H', 20, 'QRO')\n",
      "(30, 'Goche Ortega', 'H', 34, 'CDMX')\n"
     ]
    }
   ],
   "source": [
    "# solo verificando \n",
    "mycursor = db.cursor()\n",
    "mycursor.execute(\"SHOW TABLES\")\n",
    "for x in mycursor:\n",
    "    print(x)\n",
    "mycursor.execute(\"select * from DatosGenerales\")\n",
    "for x in mycursor:\n",
    "    print(x)"
   ]
  },
  {
   "cell_type": "code",
   "execution_count": 10,
   "metadata": {},
   "outputs": [],
   "source": [
    "# tomar datos de mediciones\n",
    "mycursor.execute(\"select medida from Mediciones\")\n",
    "#for x in mycursor:\n",
    "#  print(x)\n",
    "rows = mycursor.fetchall()\n",
    "#print(rows)"
   ]
  },
  {
   "cell_type": "code",
   "execution_count": 11,
   "metadata": {},
   "outputs": [
    {
     "name": "stdout",
     "output_type": "stream",
     "text": [
      "[1.72, 1.72, 1.56, 1.665, 1.71, 1.5, 1.58, 1.765, 1.68, 1.712, 1.665, 1.785, 1.61, 1.63, 1.725, 1.76, 1.645, 1.56, 1.705, 1.805, 1.67, 1.602, 1.645, 1.61, 1.79, 1.74, 1.515, 1.65, 1.755, 1.74, 1.81]\n"
     ]
    }
   ],
   "source": [
    "# vector de alturas para histograma\n",
    "alturas, c = [], 1\n",
    "for i in rows:\n",
    "    if c == 1:\n",
    "        alturas.append(i[0])\n",
    "    if (c-1)%16 == 0:\n",
    "        alturas.append(i[0])\n",
    "    c=c+1\n",
    "print(alturas)"
   ]
  },
  {
   "cell_type": "code",
   "execution_count": 12,
   "metadata": {},
   "outputs": [
    {
     "name": "stdout",
     "output_type": "stream",
     "text": [
      "[43.928, 43.928, 41.108, 49.386, 50.77, 50.832, 42.056, 46.922, 43.962, 40.296, 50.98, 38.82, 55.976, 48.366, 41.416, 44.596, 39.64, 42.118, 48.46, 42.368, 40.982, 50.656, 54.32, 50.426, 43.424, 42.09, 56.344, 51.18, 55.962, 52.99, 42.832]\n"
     ]
    }
   ],
   "source": [
    "# vector del promedio de pigmentacion de la frente para histograma\n",
    "frenteavg, c=[],1\n",
    "for i in rows:\n",
    "    if c == 2:\n",
    "        frenteavg.append(i[0])\n",
    "    if (c-2)%16 == 0:\n",
    "        frenteavg.append(i[0])\n",
    "    c=c+1\n",
    "print(frenteavg)"
   ]
  },
  {
   "cell_type": "code",
   "execution_count": 13,
   "metadata": {},
   "outputs": [
    {
     "name": "stdout",
     "output_type": "stream",
     "text": [
      "[35.668, 35.668, 40.092, 45.392, 41.74, 40.304, 37.074, 42.072, 37.302, 41.426, 41.25, 36.62, 44.026, 38.854, 38.65, 40.744, 39.0, 38.404, 45.338, 35.842, 35.13, 43.474, 37.158, 48.382, 37.62, 37.938, 41.834, 47.084, 40.156, 40.734, 36.936]\n"
     ]
    }
   ],
   "source": [
    "# vector del promedio de pigmentacion del brazo para histograma\n",
    "brazoavg, c=[],1\n",
    "for i in rows:\n",
    "    if c == 3:\n",
    "        brazoavg.append(i[0])\n",
    "    if (c-3)%16 == 0:\n",
    "        brazoavg.append(i[0])\n",
    "    c=c+1\n",
    "print(brazoavg)"
   ]
  },
  {
   "cell_type": "code",
   "execution_count": 29,
   "metadata": {},
   "outputs": [
    {
     "data": {
      "text/plain": [
       "Text(0, 0.5, 'Frecuencia')"
      ]
     },
     "execution_count": 29,
     "metadata": {},
     "output_type": "execute_result"
    },
    {
     "data": {
      "image/png": "[encoded data removed]",
      "text/plain": [
       "<Figure size 432x288 with 1 Axes>"
      ]
     },
     "metadata": {
      "needs_background": "light"
     },
     "output_type": "display_data"
    }
   ],
   "source": [
    "#histograma de alturas\n",
    "plt.hist(alturas,10,facecolor='b')\n",
    "plt.title(\"Histograma de alturas\")\n",
    "plt.xlabel(\"Altura en metros\")\n",
    "plt.ylabel(\"Frecuencia\")"
   ]
  },
  {
   "cell_type": "markdown",
   "metadata": {},
   "source": [
    "Se tienen 30 observaciones, de las cuales, hay una mayor frecuencia entre alturas de 1.7 a 1.75 m. COn esta cantidad de datos no podemos hacer conclusiones fuertes sobre la distribucion del fenotipo \"altura\", tan solo decir que la grafica esta un poco cargada en la derecha por lo que se observan mas alturas de 1.65 a 1.80 m."
   ]
  },
  {
   "cell_type": "code",
   "execution_count": 31,
   "metadata": {
    "scrolled": true
   },
   "outputs": [
    {
     "data": {
      "text/plain": [
       "Text(0, 0.5, 'Frecuencia')"
      ]
     },
     "execution_count": 31,
     "metadata": {},
     "output_type": "execute_result"
    },
    {
     "data": {
      "image/png": "[encoded data removed]",
      "text/plain": [
       "<Figure size 432x288 with 1 Axes>"
      ]
     },
     "metadata": {
      "needs_background": "light"
     },
     "output_type": "display_data"
    }
   ],
   "source": [
    "#histograma de pigmentacion de la frente\n",
    "plt.hist(frenteavg,20,facecolor='b')\n",
    "plt.title(\"Pigmentacion de la frente\")\n",
    "plt.xlabel(\"Pigmentacion promedio\")\n",
    "plt.ylabel(\"Frecuencia\")"
   ]
  },
  {
   "cell_type": "markdown",
   "metadata": {},
   "source": [
    "La pigmentacion promedio de la frente no tiene una clara distribucion. Sin embargo, podemos ver que el valor mas frecuente es el de 51 aunque muchas observaciones estan en el rango de 37.5 a 45."
   ]
  },
  {
   "cell_type": "code",
   "execution_count": 32,
   "metadata": {},
   "outputs": [
    {
     "data": {
      "text/plain": [
       "Text(0, 0.5, 'Frecuencia')"
      ]
     },
     "execution_count": 32,
     "metadata": {},
     "output_type": "execute_result"
    },
    {
     "data": {
      "image/png": "[encoded data removed]",
      "text/plain": [
       "<Figure size 432x288 with 1 Axes>"
      ]
     },
     "metadata": {
      "needs_background": "light"
     },
     "output_type": "display_data"
    }
   ],
   "source": [
    "#histograma de pigmentacion del brazo\n",
    "plt.hist(brazoavg,15,facecolor='b')\n",
    "plt.title(\"Pigmentacion del brazo\")\n",
    "plt.xlabel(\"Pigmentacion promedio\")\n",
    "plt.ylabel(\"Frecuencia\")"
   ]
  },
  {
   "cell_type": "markdown",
   "metadata": {},
   "source": [
    "Este histograma parece estar sesgado a la izquierda, con valores pequeños más frecuentes. Esto hace sentido ya que se espera un menor impacto en el tono de piel causado por el sol dado reducido descubrimiento de este. "
   ]
  },
  {
   "cell_type": "code",
   "execution_count": 17,
   "metadata": {},
   "outputs": [],
   "source": [
    "# manera 0 eficiente de obtener listas que contengan...\n",
    "#      para cada persona, para cada medicion, el promedio entre brazo y frente de ese no. de medicion \n",
    "#  i.e. [ persona1[ (br1+fr1)/2 ,..., (br5+fr5)/2 ] , ... , persona30[(br1+fr1)/2,...,(br5+fr5)/2]]\n",
    "\n",
    "#saco el vector con todas las mediciones de pigm de frente\n",
    "frente, c=[],1\n",
    "for i in rows:\n",
    "    if c >= 7 and c <= 11:\n",
    "        frente.append(i[0])\n",
    "    if (c-7)%16 == 0 or (c-8)%16 == 0 or (c-9)%16 == 0 or (c-10)%16 == 0 or (c-11)%16 == 0:\n",
    "        frente.append(i[0])\n",
    "    c=c+1\n",
    "#print(c)\n",
    "#print(frente)\n",
    "#saco el vector con todas las mediciones de pigm de brazo\n",
    "brazo, c=[],1\n",
    "for i in rows:\n",
    "    if c >= 12 and c <= 16:\n",
    "        brazo.append(i[0])\n",
    "    if (c-12)%16 == 0 or (c-13)%16 == 0 or (c-14)%16 == 0 or (c-15)%16 == 0 or (c-16)%16 == 0:\n",
    "        brazo.append(i[0])\n",
    "    c=c+1\n",
    "#print(brazo)\n",
    "#vector con promedio de mediciones: (frente+brazo)/2\n",
    "brfr, c = [], 0\n",
    "for i in brazo:\n",
    "    brfr.append((i+frente[c])/2)\n",
    "    c=c+1\n",
    "#print(brfr)\n",
    "# lo mismo pero separado en listas para cada persona\n",
    "datospigm, persona, c = [], [],0\n",
    "for i in brfr:\n",
    "    if c >= 0 and c <=4:\n",
    "        persona.append(i)\n",
    "        c = c+1\n",
    "    elif c > 4:\n",
    "        datospigm.append(persona)\n",
    "        persona = []\n",
    "        c = 0\n",
    "#print(datospigm)"
   ]
  },
  {
   "cell_type": "code",
   "execution_count": 21,
   "metadata": {},
   "outputs": [
    {
     "data": {
      "image/png": "[encoded data removed]",
      "text/plain": [
       "<Figure size 432x288 with 1 Axes>"
      ]
     },
     "metadata": {
      "needs_background": "light"
     },
     "output_type": "display_data"
    }
   ],
   "source": [
    "# boxplots de medidas de pigmentacion para cada persona\n",
    "fig, ax = plt.subplots()\n",
    "ax.set_title('Pigmentacion por persona')\n",
    "ax.boxplot(datospigm)\n",
    "plt.show()"
   ]
  },
  {
   "cell_type": "markdown",
   "metadata": {},
   "source": [
    "Los boxplots de arriba nos habla sobre la variacion entre las medidas de pigmetacion en brazo y frente en conjunto, en el caso de variacion grnade mas extremo, tenemos que la persona 18, Christian, tiene un rango de valores entre ~37 y hasta ~47 con media cercana a 38. Tambien tenemos casos de poca variacion entre las medidas como Margareta, en la posicion 1 pero con un outlier."
   ]
  },
  {
   "cell_type": "code",
   "execution_count": 25,
   "metadata": {},
   "outputs": [],
   "source": [
    "# vectores de medicion de frente y brazo por persona\n",
    "# todosfrente = [ persona1[med1,...,med5], ..., persona30[med1,...,med5] ]\n",
    "todosfrente, perfrente, c = [], [], 0\n",
    "for i in frente:\n",
    "    if c >= 0 and c <= 4:\n",
    "        perfrente.append(i)\n",
    "        c+=1\n",
    "    elif c > 4:\n",
    "        todosfrente.append(perfrente)\n",
    "        perfrente = []\n",
    "        c = 0\n",
    "#print(todosfrente)\n",
    "# todosbrazo = [ persona1[med1,...,med5], ..., persona30[med1,...,med5] ]\n",
    "todosbrazo, perbrazo, c = [], [], 0\n",
    "for i in brazo:\n",
    "    if c >= 0 and c <= 4:\n",
    "        perbrazo.append(i)\n",
    "        c+=1\n",
    "    elif c > 4:\n",
    "        todosbrazo.append(perbrazo)\n",
    "        perbrazo = []\n",
    "        c = 0\n",
    "#print(todosbrazo)"
   ]
  },
  {
   "cell_type": "code",
   "execution_count": 26,
   "metadata": {},
   "outputs": [
    {
     "data": {
      "image/png": "[encoded data removed]",
      "text/plain": [
       "<Figure size 432x288 with 1 Axes>"
      ]
     },
     "metadata": {
      "needs_background": "light"
     },
     "output_type": "display_data"
    }
   ],
   "source": [
    "fig1, ax1 = plt.subplots()\n",
    "ax1.set_title('Pigmentacion de la frente por persona')\n",
    "ax1.boxplot(todosfrente)\n",
    "plt.show()"
   ]
  },
  {
   "cell_type": "markdown",
   "metadata": {},
   "source": [
    "Es razonable pensar que las mediciones de la frente pueden ser un tanto heterogeneas, debido a que diferentes partes de la frente se expongan distinto al sol, por ejemplo. Pero, salvo a algunas personas, la mayoria parece haber tenido una medicion parecida."
   ]
  },
  {
   "cell_type": "code",
   "execution_count": 27,
   "metadata": {},
   "outputs": [
    {
     "data": {
      "image/png": "[encoded data removed]",
      "text/plain": [
       "<Figure size 432x288 with 1 Axes>"
      ]
     },
     "metadata": {
      "needs_background": "light"
     },
     "output_type": "display_data"
    }
   ],
   "source": [
    "fig2, ax2 = plt.subplots()\n",
    "ax2.set_title('Pigmentacion del brazo por persona')\n",
    "ax2.boxplot(todosbrazo)\n",
    "plt.show()"
   ]
  },
  {
   "cell_type": "markdown",
   "metadata": {},
   "source": [
    "Por el contrario, tomamos la medida del brazo pensando que es poco afectado por el sol, y creo que tambien seria razonable pensar que la mayoria de estas mediciones serian parecidas, sin embargo, estas mediciones parecen variar mas entre si que las que se tomaron para la frente. Hay varias posibles respuestas, una es que si expongan la parte del brazo medida al sol para que se diferencie en el tono, tal vez tomaron la medicion de algun lunar o de la axila."
   ]
  }
 ],
 "metadata": {
  "kernelspec": {
   "display_name": "Python 3",
   "language": "python",
   "name": "python3"
  },
  "language_info": {
   "codemirror_mode": {
    "name": "ipython",
    "version": 3
   },
   "file_extension": ".py",
   "mimetype": "text/x-python",
   "name": "python",
   "nbconvert_exporter": "python",
   "pygments_lexer": "ipython3",
   "version": "3.7.4"
  }
 },
 "nbformat": 4,
 "nbformat_minor": 2
}
